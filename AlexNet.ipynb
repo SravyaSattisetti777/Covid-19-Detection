{
  "nbformat": 4,
  "nbformat_minor": 0,
  "metadata": {
    "colab": {
      "provenance": []
    },
    "kernelspec": {
      "name": "python3",
      "display_name": "Python 3"
    },
    "language_info": {
      "name": "python"
    }
  },
  "cells": [
    {
      "cell_type": "code",
      "execution_count": null,
      "metadata": {
        "id": "eG0zQ0hoVMMk"
      },
      "outputs": [],
      "source": [
        " # S.Sravya\n",
        " #21BEC7260\n",
        " #AlexNet Model\n",
        " import numpy as np\n",
        " import pandas as pd\n",
        " import os\n",
        " for dirname, _, filenames in os.walk('/kaggle/input'):\n",
        "    for filename in filenames:\n",
        "        print(os.path.join(dirname, filename))"
      ]
    },
    {
      "cell_type": "code",
      "source": [
        "!pip install imutils"
      ],
      "metadata": {
        "id": "cLXrODAKVh7j"
      },
      "execution_count": null,
      "outputs": []
    },
    {
      "cell_type": "code",
      "source": [
        " import numpy as np\n",
        " import pandas as pd\n",
        " import os\n",
        " from imutils import paths\n",
        " import matplotlib.pyplot as plt\n",
        " import argparse\n",
        " import os\n",
        " from tensorflow.keras.preprocessing.image import ImageDataGenerator\n",
        " from tensorflow.keras.layers import Conv2D, MaxPooling2D, Flatten, Dense, Dropout, Input\n",
        " from tensorflow.keras.models import Model\n",
        " from tensorflow.keras.optimizers import Adam\n",
        " from tensorflow.keras.utils import to_categorical\n",
        " from sklearn.preprocessing import LabelBinarizer\n",
        " from sklearn.model_selection import train_test_split"
      ],
      "metadata": {
        "id": "TaoHq1XsVkvl"
      },
      "execution_count": null,
      "outputs": []
    },
    {
      "cell_type": "code",
      "source": [
        " dataset = \"/content/sample_data/covid19-chest-xray-image-dataset\"\n",
        " args={}\n",
        " args[\"dataset\"]=datase"
      ],
      "metadata": {
        "id": "XV4ciLl3Vm0r"
      },
      "execution_count": null,
      "outputs": []
    },
    {
      "cell_type": "code",
      "source": [
        "import cv2\n",
        " iPaths = list(paths.list_images(args[\"dataset\"]))\n",
        " data = []\n",
        " labels = []\n",
        " for iPath in iPaths:\n",
        "    label = iPath.split(os.path.sep)[-2]\n",
        "    image = cv2.imread(iPath)\n",
        "    image = cv2.cvtColor(image, cv2.COLOR_BGR2RGB)\n",
        "    image = cv2.resize(image, (227, 227))\n",
        "    data.append(image)\n",
        "    labels.append(label)\n",
        " data = np.array(data) / 255.0\n",
        " labels = np.array(labels)"
      ],
      "metadata": {
        "id": "d1aCXMb5Vqfg"
      },
      "execution_count": null,
      "outputs": []
    },
    {
      "cell_type": "code",
      "source": [
        "import os\n",
        " Data_Dir = \"/content/sample_data/covid19-chest-xray-image-dataset/dataset\"\n",
        " if os.path.exists(Data_Dir):\n",
        "    print(os.listdir(Data_Dir))\n",
        " else:\n",
        "    print(\"Data directory does not exist!\")"
      ],
      "metadata": {
        "id": "kg8LrmKLVy4e"
      },
      "execution_count": null,
      "outputs": []
    },
    {
      "cell_type": "code",
      "source": [
        " Data_Dir = \"/content/sample_data/covid19-chest-xray-image-dataset/dataset\"\n",
        " Cimages = os.listdir(os.path.join(Data_Dir, \"covid\"))\n",
        " Nimages = os.listdir(os.path.join(Data_Dir, \"normal\"))"
      ],
      "metadata": {
        "id": "v8IFvc-xV_oL"
      },
      "execution_count": null,
      "outputs": []
    },
    {
      "cell_type": "code",
      "source": [
        "def plotter(i):\n",
        "    try:\n",
        "        normal = cv2.imread(Data_Dir + \"/normal/\" + Nimages[i])\n",
        "        if normal is None:\n",
        "            raise ValueError(\"Failed to read normal image:\", Nimages[i])\n",
        "        normal = cv2.resize(normal, (150, 150))\n",
        "\n",
        "        coronavirus = cv2.imread(Data_Dir + \"/covid/\" + Cimages[i])\n",
        "        if coronavirus is None:\n",
        "            raise ValueError(\"Failed to read coronavirus image:\", Cimages[i])\n",
        "        coronavirus = cv2.resize(coronavirus, (150, 150))\n",
        "        pair = np.concatenate((normal, coronavirus), axis=1)\n",
        "\n",
        "        print(\"Normal Chest X-ray Vs Covid-19 Chest X-ray\")\n",
        "        plt.figure(figsize=(10, 5))\n",
        "        plt.imshow(pair)\n",
        "        plt.show()\n",
        "\n",
        "    except Exception as e:\n",
        "        print(\"Error:\", str(e))\n",
        "\n",
        "for i in range(0, 5):\n",
        "    plotter(i)"
      ],
      "metadata": {
        "id": "jnd4PHYCWLaE"
      },
      "execution_count": null,
      "outputs": []
    },
    {
      "cell_type": "code",
      "source": [
        "LB = LabelBinarizer()\n",
        "labels = LB.fit_transform(labels)\n",
        "labels = to_categorical(labels)\n",
        "print(labels)\n",
        "(X_train, X_test, Y_train, Y_test) = train_test_split(data, labels,\n",
        "    test_size=0.20, stratify=labels, random_state=42)\n",
        "trainAug = ImageDataGenerator(\n",
        "    rotation_range=15,\n",
        "    fill_mode=\"nearest\")"
      ],
      "metadata": {
        "id": "SVYsse68Wspx"
      },
      "execution_count": null,
      "outputs": []
    },
    {
      "cell_type": "code",
      "source": [
        " input_shape = (227, 227, 3)\n",
        " # Define the input layer\n",
        " inputs = Input(shape=input_shape)\n",
        " # First convolutional block\n",
        " x = Conv2D(96, (11, 11), strides=(4, 4), activation='relu')(inputs)\n",
        " x = MaxPooling2D((3, 3), strides=(2, 2))(x)\n",
        " # Second convolutional block\n",
        " x = Conv2D(256, (5, 5), padding='same', activation='relu')(x)\n",
        " x = MaxPooling2D((3, 3), strides=(2, 2))(x)\n",
        " # Third convolutional block\n",
        " x = Conv2D(384, (3, 3), padding='same', activation='relu')(x)\n",
        " # Fourth convolutional block\n",
        " x = Conv2D(384, (3, 3), padding='same', activation='relu')(x)\n",
        " # Fifth convolutional block\n",
        " x = Conv2D(256, (3, 3), padding='same', activation='relu')(x)\n",
        " x = MaxPooling2D((3, 3), strides=(2, 2))(x)\n",
        " # Flatten the output\n",
        " x = Flatten()(x)\n",
        " # Fully connected layers\n",
        " x = Dense(4096, activation='relu')(x)\n",
        " x = Dropout(0.5)(x)\n",
        " x = Dense(4096, activation='relu')(x)\n",
        " x = Dropout(0.5)(x)\n",
        " # Output layer\n",
        " outputs = Dense(2, activation='softmax')(x)\n",
        " # Create the model\n",
        " model = Model(inputs=inputs, outputs=outputs)"
      ],
      "metadata": {
        "id": "I9MC7FZ9W2RR"
      },
      "execution_count": null,
      "outputs": []
    },
    {
      "cell_type": "code",
      "source": [
        "X_train.shape, X_test.shape, Y_train.shape, Y_test.shape"
      ],
      "metadata": {
        "id": "kJxKf93eY6tR"
      },
      "execution_count": null,
      "outputs": []
    },
    {
      "cell_type": "code",
      "source": [
        "W_grid = 4  # width\n",
        "L_grid = 4  # length\n",
        "fig, axes = plt.subplots(L_grid, W_grid, figsize=(25, 25))  # subplots\n",
        "axes = axes.ravel()\n",
        "n_training = len(X_train)\n",
        "for i in np.arange(0, L_grid * W_grid):\n",
        "    index = np.random.randint(0, n_training)  # pick a random number\n",
        "    axes[i].imshow(X_train[index])\n",
        "    axes[i].set_title(Y_train[index])\n",
        "    axes[i].axis('off')\n",
        "\n",
        "plt.subplots_adjust(hspace=0.4)"
      ],
      "metadata": {
        "id": "sFHnB5Q3ZFV3"
      },
      "execution_count": null,
      "outputs": []
    },
    {
      "cell_type": "code",
      "source": [
        "INIT_LR = 1e-3\n",
        "EPOCHS = 30\n",
        "BS = 8"
      ],
      "metadata": {
        "id": "--T6az-bZLjC"
      },
      "execution_count": null,
      "outputs": []
    },
    {
      "cell_type": "code",
      "source": [
        "from tensorflow.keras.optimizers import Adam\n",
        "\n",
        "opt = Adam(learning_rate=INIT_LR)\n",
        "full_model.compile(loss=\"binary_crossentropy\", optimizer=opt, metrics=[\"accuracy\"])\n",
        "print(\"Compiling Starts\")\n",
        "\n",
        "R = full_model.fit_generator(\n",
        "    trainAug.flow(X_train, Y_train, batch_size=BS),\n",
        "    steps_per_epoch=len(X_train) // BS,\n",
        "    validation_data=(X_test, Y_test),\n",
        "    validation_steps=len(X_test) // BS,\n",
        "    epochs=EPOCHS\n",
        ")"
      ],
      "metadata": {
        "id": "mrYh1pEiZOQX"
      },
      "execution_count": null,
      "outputs": []
    },
    {
      "cell_type": "code",
      "source": [
        "L = 5\n",
        "W = 3\n",
        "fig, axes = plt.subplots(L, W, figsize=(12, 12))\n",
        "axes = axes.ravel()\n",
        "y_pred = full_model.predict(X_test, batch_size=BS)\n",
        "for i in np.arange(0, L*W):\n",
        "    axes[i].imshow(X_test[i])\n",
        "    axes[i].set_title('Prediction = {}\\nTrue = {}'.format(y_pred.argmax(axis=1)[i], Y_test.argmax(axis=1)[i]))\n",
        "    axes[i].axis('off')\n",
        "\n",
        "plt.subplots_adjust(wspace=1, hspace=1)"
      ],
      "metadata": {
        "id": "TEytXrgPZUUN"
      },
      "execution_count": null,
      "outputs": []
    },
    {
      "cell_type": "code",
      "source": [
        "from sklearn.metrics import classification_report\n",
        "y_pred = full_model.predict(X_test, batch_size=BS)\n",
        "y_pred = np.argmax(y_pred, axis=1)\n",
        "print(classification_report(Y_test.argmax(axis=1), y_pred, target_names=LB.classes_))"
      ],
      "metadata": {
        "id": "FrkLY-MwZYxt"
      },
      "execution_count": null,
      "outputs": []
    },
    {
      "cell_type": "code",
      "source": [
        "from sklearn.metrics import accuracy_score\n",
        "accuracy_score(Y_test.argmax(axis=1), y_pred)"
      ],
      "metadata": {
        "id": "qvlfoDILZcYq"
      },
      "execution_count": null,
      "outputs": []
    },
    {
      "cell_type": "code",
      "source": [
        "from sklearn.metrics import confusion_matrix\n",
        "cm = confusion_matrix(Y_test.argmax(axis=1), y_pred)\n",
        "total = sum(sum(cm))\n",
        "acc = (cm[0, 0] + cm[1, 1]) / total\n",
        "sensitivity = cm[0, 0] / (cm[0, 0] + cm[0, 1])\n",
        "specificity = cm[1, 1] / (cm[1, 0] + cm[1, 1])\n",
        "print(cm)\n",
        "print(\"acc: {:.4f}\".format(acc))\n",
        "print(\"sensitivity: {:.4f}\".format(sensitivity))\n",
        "print(\"specificity: {:.4f}\".format(specificity))"
      ],
      "metadata": {
        "id": "Xn4udDSOZfzy"
      },
      "execution_count": null,
      "outputs": []
    },
    {
      "cell_type": "code",
      "source": [
        "# plot the loss\n",
        "plt.plot(R.history['loss'], label='train loss')\n",
        "plt.plot(R.history['val_loss'], label='val loss')\n",
        "plt.legend()\n",
        "plt.show()\n",
        "plt.savefig('LossVal_loss')"
      ],
      "metadata": {
        "id": "hRu6nZyRZkA_"
      },
      "execution_count": null,
      "outputs": []
    },
    {
      "cell_type": "code",
      "source": [
        "# plot the accuracy\n",
        "plt.plot(R.history['accuracy'], label='train acc')\n",
        "plt.plot(R.history['val_accuracy'], label='val acc')\n",
        "plt.legend()\n",
        "plt.show()"
      ],
      "metadata": {
        "id": "2vT0cWNjZnAy"
      },
      "execution_count": null,
      "outputs": []
    },
    {
      "cell_type": "code",
      "source": [
        "full_model.save('Covid_model.h5')"
      ],
      "metadata": {
        "id": "IsaAMI78ZoR5"
      },
      "execution_count": null,
      "outputs": []
    },
    {
      "cell_type": "code",
      "source": [
        "import tensorflow as tf\n",
        "import numpy as np\n",
        "import matplotlib.pyplot as plt\n",
        "\n",
        "model = tf.keras.models.load_model('Covid_model.h5')\n",
        "\n",
        "img = tf.keras.preprocessing.image.load_img('/content/sample_data/covid19-chest-xray-image-dataset/dataset/covid/ryct.2020200028.fig1a.jpeg', target_size=(224, 224))\n",
        "input_shape = (227, 227, 3)\n",
        "\n",
        "inputs = Input(shape=input_shape)\n",
        "imgplot = plt.imshow(img)\n",
        "\n",
        "x = tf.keras.preprocessing.image.img_to_array(img)\n",
        "x = np.expand_dims(x, axis=0)\n",
        "\n",
        "img_data = x / 255.0  # Normalize the image data\n",
        "classes = model.predict(img_data)\n",
        "\n",
        "New_pred = np.argmax(classes, axis=1)\n",
        "if New_pred == [1]:\n",
        "    print('Prediction: Normal')\n",
        "else:\n",
        "    print('Prediction: Corona')"
      ],
      "metadata": {
        "id": "4kV31PLYZrut"
      },
      "execution_count": null,
      "outputs": []
    },
    {
      "cell_type": "code",
      "source": [
        "import tensorflow as tf\n",
        "import numpy as np\n",
        "import matplotlib.pyplot as plt\n",
        "\n",
        "model = tf.keras.models.load_model('Covid_model.h5')\n",
        "\n",
        "img = tf.keras.preprocessing.image.load_img('/content/sample_data/covid19-chest-xray-image-dataset/dataset/normal/NORMAL2-IM-0397-0001.jpeg', target_size=(224, 224))\n",
        "input_shape = (227, 227, 3)\n",
        "inputs = Input(shape=input_shape)\n",
        "\n",
        "imgplot = plt.imshow(img)\n",
        "x = tf.keras.preprocessing.image.img_to_array(img)\n",
        "x = np.expand_dims(x, axis=0)\n",
        "img_data = x / 255.0  # Normalize the image data\n",
        "\n",
        "classes = model.predict(img_data)\n",
        "New_pred = np.argmax(classes, axis=1)\n",
        "if New_pred == [1]:\n",
        "    print('Prediction: Corona')\n",
        "else:\n",
        "    print('Prediction: Normal')"
      ],
      "metadata": {
        "id": "2iSFB_oFZubK"
      },
      "execution_count": null,
      "outputs": []
    }
  ]
}