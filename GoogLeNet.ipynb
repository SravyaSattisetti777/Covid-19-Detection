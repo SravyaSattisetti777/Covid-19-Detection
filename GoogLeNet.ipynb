{
  "nbformat": 4,
  "nbformat_minor": 0,
  "metadata": {
    "colab": {
      "provenance": []
    },
    "kernelspec": {
      "name": "python3",
      "display_name": "Python 3"
    },
    "language_info": {
      "name": "python"
    }
  },
  "cells": [
    {
      "cell_type": "code",
      "execution_count": null,
      "metadata": {
        "id": "UYxVr-9laFjW"
      },
      "outputs": [],
      "source": [
        " # S. Sravya\n",
        " #21BEC7260\n",
        " #GoogleNet Model\n",
        "\n",
        " import numpy as np\n",
        " import pandas as pd\n",
        " import os\n",
        " for dirname, _, filenames in os.walk('/kaggle/input'):\n",
        "    for filename in filenames:\n",
        "        print(os.path.join(dirname, filename))"
      ]
    },
    {
      "cell_type": "code",
      "source": [
        "!pip install imutils"
      ],
      "metadata": {
        "id": "gCN7s9uTabjZ"
      },
      "execution_count": null,
      "outputs": []
    },
    {
      "cell_type": "code",
      "source": [
        "from imutils import paths\n",
        " import matplotlib.pyplot as plt\n",
        " import argparse\n",
        " import os\n",
        " from tensorflow.keras.preprocessing.image import ImageDataGenerator\n",
        " from tensorflow.keras.applications import InceptionV3\n",
        " from tensorflow.keras.layers import AveragePooling2D\n",
        " from tensorflow.keras.layers import Dropout\n",
        " from tensorflow.keras.layers import Flatten\n",
        " from tensorflow.keras.layers import Dense\n",
        " from tensorflow.keras.layers import Input\n",
        " from tensorflow.keras.models import Model\n",
        " from tensorflow.keras.optimizers import Adam\n",
        " from tensorflow.keras.utils import to_categorical\n",
        " from sklearn.preprocessing import LabelBinarizer\n",
        " from sklearn.model_selection import train_test_split"
      ],
      "metadata": {
        "id": "wWDXupGvaSVI"
      },
      "execution_count": null,
      "outputs": []
    },
    {
      "cell_type": "code",
      "source": [
        "dataset = \"/content/sample_data/covid19-chest-xray-image-dataset\"\n",
        " args={}\n",
        " args[\"dataset\"]=dataset"
      ],
      "metadata": {
        "id": "c9c6xF_jae5l"
      },
      "execution_count": null,
      "outputs": []
    },
    {
      "cell_type": "code",
      "source": [
        "import numpy as np\n",
        " import cv2\n",
        " iPaths = list(paths.list_images(args[\"dataset\"]))  #image paths\n",
        " data = []\n",
        " labels = []\n",
        " for iPath in iPaths:\n",
        "    label = iPath.split(os.path.sep)[-2]   #split the image paths\n",
        "    image = cv2.imread(iPath)\n",
        "    image = cv2.cvtColor(image, cv2.COLOR_BGR2RGB) #Convert images into RGB Channel\n",
        "    image = cv2.resize(image, (224, 224))  #Resizing the images\n",
        "    data.append(image)\n",
        "    labels.append(label)\n",
        " data = np.array(data) / 255.0\n",
        " labels = np.array(labels)"
      ],
      "metadata": {
        "id": "QJ89cLToahzR"
      },
      "execution_count": null,
      "outputs": []
    },
    {
      "cell_type": "code",
      "source": [
        "import os\n",
        " Data_Dir = \"/content/sample_data/covid19-chest-xray-image-dataset/dataset\"\n",
        " if os.path.exists(Data_Dir):\n",
        "    print(os.listdir(Data_Dir))\n",
        " else:\n",
        "    print(\"Data directory does not exist!\")"
      ],
      "metadata": {
        "id": "-Vk7dbw2akYs"
      },
      "execution_count": null,
      "outputs": []
    },
    {
      "cell_type": "code",
      "source": [
        "Data_Dir = \"/content/sample_data/covid19-chest-xray-image-dataset/dataset\"\n",
        " Cimages = os.listdir(os.path.join(Data_Dir, \"covid\"))\n",
        " Nimages = os.listdir(os.path.join(Data_Dir, \"normal\"))"
      ],
      "metadata": {
        "id": "2G4q_M-eamna"
      },
      "execution_count": null,
      "outputs": []
    },
    {
      "cell_type": "code",
      "source": [
        "import matplotlib.pyplot as plt\n",
        "import cv2\n",
        "import skimage\n",
        "from skimage.transform import resize\n",
        "import numpy as np\n",
        "\n",
        "def plotter(i):\n",
        "    try:\n",
        "        normal = cv2.imread(Data_Dir + \"/normal/\" + Nimages[i])\n",
        "        if normal is None:\n",
        "            raise ValueError(\"Failed to read normal image:\", Nimages[i])\n",
        "        normal = skimage.transform.resize(normal, (150, 150, 3))\n",
        "\n",
        "        coronavirus = cv2.imread(Data_Dir + \"/covid/\" + Cimages[i])\n",
        "        if coronavirus is None:\n",
        "            raise ValueError(\"Failed to read coronavirus image:\", Cimages[i])\n",
        "        coronavirus = skimage.transform.resize(coronavirus, (150, 150, 3), mode='reflect')\n",
        "\n",
        "        pair = np.concatenate((normal, coronavirus), axis=1)\n",
        "\n",
        "        print(\"Normal Chest X-ray Vs Covid-19 Chest X-ray\")\n",
        "        plt.figure(figsize=(10, 5))\n",
        "        plt.imshow(pair)\n",
        "        plt.show()\n",
        "\n",
        "    except Exception as e:\n",
        "        print(\"Error:\", str(e))\n",
        "\n",
        "for i in range(0, 5):\n",
        "    plotter(i)"
      ],
      "metadata": {
        "id": "kxB0QnfbapA1"
      },
      "execution_count": null,
      "outputs": []
    },
    {
      "cell_type": "code",
      "source": [
        "LB = LabelBinarizer()\n",
        "labels = LB.fit_transform(labels)\n",
        "labels = to_categorical(labels)\n",
        "print(labels)\n",
        "(X_train, X_test, Y_train, Y_test) = train_test_split(data, labels,\n",
        "    test_size=0.20, stratify=labels, random_state=42)\n",
        "trainAug = ImageDataGenerator(\n",
        "    rotation_range=15,\n",
        "    fill_mode=\"nearest\")"
      ],
      "metadata": {
        "id": "c90oyDDJazzn"
      },
      "execution_count": null,
      "outputs": []
    },
    {
      "cell_type": "code",
      "source": [
        "from tensorflow.keras.applications import ResNet50\n",
        "from tensorflow.keras.layers import AveragePooling2D, Flatten, Dense, Dropout, Input\n",
        "from tensorflow.keras.models import Model\n",
        "\n",
        "base_model = ResNet50(weights=\"imagenet\", include_top=False, input_tensor=Input(shape=(224, 224, 3)))\n",
        "model = base_model.output\n",
        "model = AveragePooling2D(pool_size=(4, 4))(model)\n",
        "model = Flatten(name=\"flatten\")(model)\n",
        "model = Dense(64, activation=\"relu\")(model)\n",
        "model = Dropout(0.5)(model)\n",
        "model = Dense(2, activation=\"softmax\")(model)\n",
        "\n",
        "full_model = Model(inputs=base_model.input, outputs=model)\n",
        "for layer in full_model.layers:\n",
        "    layer.trainable = False"
      ],
      "metadata": {
        "id": "pcmND9MHa4K4"
      },
      "execution_count": null,
      "outputs": []
    },
    {
      "cell_type": "code",
      "source": [
        "X_train.shape, X_test.shape, Y_train.shape, Y_test.shape"
      ],
      "metadata": {
        "id": "PVUNJAcZa7iP"
      },
      "execution_count": null,
      "outputs": []
    },
    {
      "cell_type": "code",
      "source": [
        "W_grid = 4  # width\n",
        "L_grid = 4  # length\n",
        "fig, axes = plt.subplots(L_grid, W_grid, figsize=(25, 25))  # subplots\n",
        "axes = axes.ravel()\n",
        "n_training = len(X_train)\n",
        "for i in np.arange(0, L_grid * W_grid):\n",
        "    index = np.random.randint(0, n_training)  # pick a random number\n",
        "    axes[i].imshow(X_train[index])\n",
        "    axes[i].set_title(Y_train[index])\n",
        "    axes[i].axis('off')\n",
        "\n",
        "plt.subplots_adjust(hspace=0.4)"
      ],
      "metadata": {
        "id": "dWVrpXkaa9mq"
      },
      "execution_count": null,
      "outputs": []
    },
    {
      "cell_type": "code",
      "source": [
        "INIT_LR = 1e-3\n",
        "EPOCHS = 30\n",
        "BS = 8"
      ],
      "metadata": {
        "id": "ZhBU9prcbAU_"
      },
      "execution_count": null,
      "outputs": []
    },
    {
      "cell_type": "code",
      "source": [
        "from tensorflow.keras.optimizers import Adam\n",
        "\n",
        "opt = Adam(learning_rate=INIT_LR)\n",
        "full_model.compile(loss=\"binary_crossentropy\", optimizer=opt, metrics=[\"accuracy\"])\n",
        "print(\"Compiling Starts\")\n",
        "\n",
        "R = full_model.fit_generator(\n",
        "    trainAug.flow(X_train, Y_train, batch_size=BS),\n",
        "    steps_per_epoch=len(X_train) // BS,\n",
        "    validation_data=(X_test, Y_test),\n",
        "    validation_steps=len(X_test) // BS,\n",
        "    epochs=EPOCHS\n",
        ")"
      ],
      "metadata": {
        "id": "fsRtonyAbCZl"
      },
      "execution_count": null,
      "outputs": []
    },
    {
      "cell_type": "code",
      "source": [
        "L = 5\n",
        "W = 3\n",
        "fig, axes = plt.subplots(L, W, figsize=(12, 12))\n",
        "axes = axes.ravel()\n",
        "y_pred = full_model.predict(X_test, batch_size=BS)\n",
        "for i in np.arange(0, L*W):\n",
        "    axes[i].imshow(X_test[i])\n",
        "    axes[i].set_title('Prediction = {}\\nTrue = {}'.format(y_pred.argmax(axis=1)[i], Y_test.argmax(axis=1)[i]))\n",
        "    axes[i].axis('off')\n",
        "\n",
        "plt.subplots_adjust(wspace=1, hspace=1)"
      ],
      "metadata": {
        "id": "H-LRaqY0bD9y"
      },
      "execution_count": null,
      "outputs": []
    },
    {
      "cell_type": "code",
      "source": [
        "from sklearn.metrics import classification_report\n",
        "y_pred = full_model.predict(X_test, batch_size=BS)\n",
        "y_pred = np.argmax(y_pred, axis=1)\n",
        "print(classification_report(Y_test.argmax(axis=1), y_pred, target_names=LB.classes_))"
      ],
      "metadata": {
        "id": "APHSmI9WbSGI"
      },
      "execution_count": null,
      "outputs": []
    },
    {
      "cell_type": "code",
      "source": [
        "from sklearn.metrics import accuracy_score\n",
        "accuracy_score(Y_test.argmax(axis=1), y_pred)"
      ],
      "metadata": {
        "id": "aeLJfmgDbSoE"
      },
      "execution_count": null,
      "outputs": []
    },
    {
      "cell_type": "code",
      "source": [
        "from sklearn.metrics import confusion_matrix\n",
        "cm = confusion_matrix(Y_test.argmax(axis=1), y_pred)\n",
        "total = sum(sum(cm))\n",
        "acc = (cm[0, 0] + cm[1, 1]) / total\n",
        "sensitivity = cm[0, 0] / (cm[0, 0] + cm[0, 1])\n",
        "specificity = cm[1, 1] / (cm[1, 0] + cm[1, 1])\n",
        "print(cm)\n",
        "print(\"acc: {:.4f}\".format(acc))\n",
        "print(\"sensitivity: {:.4f}\".format(sensitivity))\n",
        "print(\"specificity: {:.4f}\".format(specificity))"
      ],
      "metadata": {
        "id": "Z0tVRdFRbVXB"
      },
      "execution_count": null,
      "outputs": []
    },
    {
      "cell_type": "code",
      "source": [
        "# plot the loss\n",
        "plt.plot(R.history['loss'], label='train loss')\n",
        "plt.plot(R.history['val_loss'], label='val loss')\n",
        "plt.legend()\n",
        "plt.show()\n",
        "plt.savefig('LossVal_loss')"
      ],
      "metadata": {
        "id": "U4kDS6A4bYcg"
      },
      "execution_count": null,
      "outputs": []
    },
    {
      "cell_type": "code",
      "source": [
        "# plot the accuracy\n",
        "plt.plot(R.history['accuracy'], label='train acc')\n",
        "plt.plot(R.history['val_accuracy'], label='val acc')\n",
        "plt.legend()\n",
        "plt.show()"
      ],
      "metadata": {
        "id": "WLXxPGXLbaSr"
      },
      "execution_count": null,
      "outputs": []
    },
    {
      "cell_type": "code",
      "source": [
        "full_model.save('Covid_model.h5')"
      ],
      "metadata": {
        "id": "iE6fdSF9bcGE"
      },
      "execution_count": null,
      "outputs": []
    },
    {
      "cell_type": "code",
      "source": [
        "import tensorflow as tf\n",
        "import numpy as np\n",
        "import matplotlib.pyplot as plt\n",
        "\n",
        "model = tf.keras.models.load_model('Covid_model.h5')\n",
        "from keras.applications.inception_v3 import preprocess_input\n",
        "\n",
        "img = tf.keras.preprocessing.image.load_img('/content/sample_data/covid19-chest-xray-image-dataset/dataset/covid/ryct.2020200028.fig1a.jpeg', target_size=(224, 224))\n",
        "imgplot = plt.imshow(img)\n",
        "\n",
        "x = tf.keras.preprocessing.image.img_to_array(img)\n",
        "x = np.expand_dims(x, axis=0)\n",
        "img_data = preprocess_input(x)\n",
        "\n",
        "classes = model.predict(img_data)\n",
        "New_pred = np.argmax(classes, axis=1)\n",
        "if New_pred == [1]:\n",
        "    print('Prediction: Normal')\n",
        "else:\n",
        "    print('Prediction: Corona')"
      ],
      "metadata": {
        "id": "stGx3XGibeQV"
      },
      "execution_count": null,
      "outputs": []
    },
    {
      "cell_type": "code",
      "source": [
        "import tensorflow as tf\n",
        "import numpy as np\n",
        "import matplotlib.pyplot as plt\n",
        "\n",
        "model = tf.keras.models.load_model('Covid_model.h5')\n",
        "from keras.applications.inception_v3 import preprocess_input\n",
        "\n",
        "img = tf.keras.preprocessing.image.load_img('/content/sample_data/covid19-chest-xray-image-dataset/dataset/normal/NORMAL2-IM-0397-0001.jpeg', target_size=(224, 224))\n",
        "imgplot = plt.imshow(img)\n",
        "\n",
        "x = tf.keras.preprocessing.image.img_to_array(img)\n",
        "x = np.expand_dims(x, axis=0)\n",
        "img_data = preprocess_input(x)\n",
        "\n",
        "classes = model.predict(img_data)\n",
        "New_pred = np.argmax(classes, axis=1)\n",
        "if New_pred == [1]:\n",
        "    print('Prediction: Normal')\n",
        "else:\n",
        "    print('Prediction: Corona')"
      ],
      "metadata": {
        "id": "rJIhXGNnbg1f"
      },
      "execution_count": null,
      "outputs": []
    }
  ]
}